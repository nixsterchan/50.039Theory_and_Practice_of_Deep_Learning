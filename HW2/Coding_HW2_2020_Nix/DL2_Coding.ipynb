{
 "cells": [
  {
   "cell_type": "code",
   "execution_count": 2,
   "metadata": {},
   "outputs": [],
   "source": [
    "import numpy as np\n",
    "import torch\n",
    "import time\n",
    "import matplotlib.pyplot as plt\n",
    "import matplotlib.colors"
   ]
  },
  {
   "cell_type": "markdown",
   "metadata": {},
   "source": [
    "# Task 1: Compare the timings of forloops, np and torch broadcasts"
   ]
  },
  {
   "cell_type": "code",
   "execution_count": 3,
   "metadata": {},
   "outputs": [],
   "source": [
    "def for_loop_normie(X_mat, T_mat):\n",
    "    # X_mat: X matrix\n",
    "    # T_mat: T matrix\n",
    "    \n",
    "    X_ins_size = X_mat.shape[0]\n",
    "    T_ins_size = T_mat.shape[0]\n",
    "    \n",
    "    # Main euclidean matrix containing all the pairwise euclidean distances in the shape of N x D\n",
    "    euclidean_mat = np.zeros((X_ins_size, T_ins_size))\n",
    "    \n",
    "    for i in range(X_ins_size):\n",
    "        # This array will be fitted into the main euclidean matrix\n",
    "        sub_euc_mat = np.zeros((1, T_ins_size))\n",
    "        \n",
    "        for j in range(T_ins_size):\n",
    "            xi = X_mat[i,:]\n",
    "            tj = T_mat[j,:]\n",
    "            \n",
    "            e_dist = np.dot(xi, xi) - (2 * (np.dot(xi, tj))) + np.dot(tj,tj)\n",
    "            sub_euc_mat[:, j] = e_dist\n",
    "    \n",
    "        euclidean_mat[i,:] = sub_euc_mat\n",
    "        \n",
    "    return euclidean_mat"
   ]
  },
  {
   "cell_type": "code",
   "execution_count": 4,
   "metadata": {},
   "outputs": [],
   "source": [
    "def numpy_style(X_mat, T_mat):\n",
    "    # X_mat: X matrix\n",
    "    # T_mat: T matrix\n",
    "    \n",
    "    # Use np.newaxis to insert 1 into the matrix to make it into the shape N x 1 x D\n",
    "    bcast_X = X_mat[:,np.newaxis,:]\n",
    "    # Get the difference between the broadcasted X and T, where the latter has shape P x D\n",
    "    XT_diff = bcast_X - T_mat # broadcasting happens here and we get N x P x D shape\n",
    "    # Square\n",
    "    sq_diff = np.square(XT_diff)\n",
    "    # Sum in the D axisa so that our resulting matrix is of shape N x P\n",
    "    XT_sum = np.sum(sq_diff, axis=2)\n",
    "    \n",
    "    return XT_sum"
   ]
  },
  {
   "cell_type": "code",
   "execution_count": 5,
   "metadata": {},
   "outputs": [],
   "source": [
    "def human_torch(X_mat, T_mat):\n",
    "    # X_mat: X tensor\n",
    "    # T_mat: T tensor\n",
    "    \n",
    "    # Use torch.unsqueeze to insert 1 into the matrix to make it into shape N x 1 x D\n",
    "    unsqueeze_X = torch.unsqueeze(X_mat, axis=1)\n",
    "    # Get the difference between the broadcasted X and T, where the latter has shape P x D\n",
    "    XT_diff = unsqueeze_X - T_mat # broadcasting happens here and we get N x P x D shape\n",
    "    # Square\n",
    "    sq_diff = torch.mul(XT_diff, XT_diff)\n",
    "    # Sum\n",
    "    XT_sum = torch.sum(sq_diff, axis=2)\n",
    "    \n",
    "    return XT_sum"
   ]
  },
  {
   "cell_type": "markdown",
   "metadata": {},
   "source": [
    "## Testing start"
   ]
  },
  {
   "cell_type": "code",
   "execution_count": 6,
   "metadata": {},
   "outputs": [],
   "source": [
    "# Set up the matrices and tensors for testing\n",
    "np.random.seed(128)\n",
    "X = np.random.random((4000,300))\n",
    "T = np.random.random((100,300))\n",
    "\n",
    "X_tensor = torch.from_numpy(X)\n",
    "T_tensor = torch.from_numpy(T)"
   ]
  },
  {
   "cell_type": "code",
   "execution_count": 7,
   "metadata": {},
   "outputs": [
    {
     "name": "stdout",
     "output_type": "stream",
     "text": [
      "for loop mode time taken = 1.9560456275939941 seconds\n"
     ]
    }
   ],
   "source": [
    "# Test with for loop\n",
    "start_time = time.time()\n",
    "for_loop_normie(X,T)\n",
    "print(f'for loop mode time taken = {time.time() - start_time} seconds')"
   ]
  },
  {
   "cell_type": "code",
   "execution_count": 8,
   "metadata": {},
   "outputs": [
    {
     "name": "stdout",
     "output_type": "stream",
     "text": [
      "numpy mode time taken = 1.0338020324707031 seconds\n"
     ]
    }
   ],
   "source": [
    "# Test with numpy broadcasting\n",
    "start_time = time.time()\n",
    "numpy_style(X,T)\n",
    "print(f'numpy mode time taken = {time.time() - start_time} seconds')"
   ]
  },
  {
   "cell_type": "code",
   "execution_count": 9,
   "metadata": {},
   "outputs": [
    {
     "name": "stdout",
     "output_type": "stream",
     "text": [
      "torch mode time taken = 0.4668600559234619 seconds\n"
     ]
    }
   ],
   "source": [
    "# Test with Torch broadcasting\n",
    "start_time = time.time()\n",
    "human_torch(X_tensor, T_tensor)\n",
    "print(f'torch mode time taken = {time.time() - start_time} seconds')"
   ]
  },
  {
   "cell_type": "code",
   "execution_count": 12,
   "metadata": {},
   "outputs": [
    {
     "name": "stdout",
     "output_type": "stream",
     "text": [
      "torch gpu mode time taken = 0.0009965896606445312 seconds\n"
     ]
    }
   ],
   "source": [
    "# Test with Torch broadcasting gpu version\n",
    "\n",
    "# Uncomment below only if you want to use gpu\n",
    "# X_cuda = (torch.from_numpy(X)).cuda()\n",
    "# T_cuda = (torch.from_numpy(T)).cuda()\n",
    "\n",
    "# start_time = time.time()\n",
    "# human_torch(X_cuda, T_cuda)\n",
    "# print(f'torch gpu mode time taken = {time.time() - start_time} seconds')\n",
    "# torch.cuda.memory_allocated()"
   ]
  },
  {
   "cell_type": "markdown",
   "metadata": {},
   "source": [
    "## From the above we can see that amongst forloops, numpy and torch broadcasting methods, torch CPU method did the best in terms of calculating the distance matrix. On a side note, after caching the copied data from CPU over to GPU, the performance was about 17 times faster than torch cpu."
   ]
  },
  {
   "cell_type": "markdown",
   "metadata": {},
   "source": [
    "# Task 2: Kmeans Algorithm"
   ]
  },
  {
   "cell_type": "code",
   "execution_count": 14,
   "metadata": {},
   "outputs": [],
   "source": [
    "def prep_data(blobs, dpoints, clusters, features):\n",
    "    # blobs: num of gaussian blobs, dpoints: num of datapoints\n",
    "    # clusters: total clusters, features: total features\n",
    "    \n",
    "    # Dataset of shape (blobs*dpoints) x features\n",
    "    dataset = torch.cat([torch.empty(dpoints, features).normal_(mean=x,std=0.3,generator=torch.manual_seed(x)) for x in range(blobs)])\n",
    "    \n",
    "    # Cluster centroids chosen from dataset of shape clusters x features\n",
    "    c_centroids = (torch.cat([dataset[i] for i in range(clusters)])).view((clusters,features))\n",
    "    \n",
    "    return dataset, c_centroids\n",
    "    "
   ]
  },
  {
   "cell_type": "code",
   "execution_count": 15,
   "metadata": {},
   "outputs": [],
   "source": [
    "def kmeans_leggo(dataset, centroids, M_limit):\n",
    "    # dataset: your dataset, centroids: starting centroids, M_limit: epochs\n",
    "    datapoints = dataset\n",
    "    current_centroids = centroids\n",
    "    \n",
    "    # To track previous centroids\n",
    "    previous_centroids = torch.zeros_like(current_centroids)\n",
    "\n",
    "    # Checker, this checks if there was any change in centroids. If no change, kmeans terminates\n",
    "    checker = torch.dist(current_centroids, previous_centroids)\n",
    "\n",
    "    # Iterations\n",
    "    iterations = 0\n",
    "    \n",
    "    # Threshold used = 0\n",
    "    while checker > 0:\n",
    "        iterations += 1\n",
    "        ### Get our euclidean matrix using the function from Task 1 ###\n",
    "        euclidean_matrix = human_torch(datapoints, current_centroids) # N x P matrix\n",
    "\n",
    "        # We take the argmin of each row to find the index of the cluster that the datapoint belongs to, and store it\n",
    "        # in a cluster map with shape N x 1\n",
    "        cluster_map = torch.argmin(euclidean_matrix, axis=1)\n",
    "\n",
    "        ### Get the new centroid ###\n",
    "        new_centroids = torch.zeros_like(current_centroids)\n",
    "\n",
    "        # Iterate through each cluster\n",
    "        for cluster_index in range(centroids.shape[0]):\n",
    "            # We use the cluster map to get the indexes of the datapoints that belong to this certain cluster\n",
    "            # Returns True or False in the tensor\n",
    "            cluster_dpoint_indexes = cluster_map == cluster_index\n",
    "\n",
    "            # Get the mean of the gathered datapoints to determine the new centroid\n",
    "            new_centroid = torch.mean(datapoints[cluster_dpoint_indexes], axis=0)\n",
    "            new_centroids[cluster_index, :] = new_centroid\n",
    "\n",
    "        # Update previous and current centroids\n",
    "        previous_centroids = current_centroids\n",
    "        current_centroids = new_centroids\n",
    "\n",
    "        checker = torch.dist(current_centroids, previous_centroids) # check\n",
    "\n",
    "        print('checker', checker)\n",
    "        print(\"iteration number: \" + str(iterations))\n",
    "        print(\"new centroids: \")\n",
    "        print(current_centroids)\n",
    "\n",
    "        # break the while loop if M limit is hit\n",
    "        if iterations == M_limit:\n",
    "            break\n",
    "            \n",
    "    return current_centroids, cluster_map\n"
   ]
  },
  {
   "cell_type": "code",
   "execution_count": 16,
   "metadata": {},
   "outputs": [],
   "source": [
    "def clusters_plot(dataset, cluster_map, s_centroids, f_centroids):\n",
    "    # dataset: your dataset \n",
    "    # cluster_map: cluster map containing latest indexes of each datapoint to their respective clusters\n",
    "    # s_centroids: starting centroids, f_centroids: final centroids\n",
    "    \n",
    "    # Plot the datapoints final position \n",
    "    fig, ax = plt.subplots()\n",
    "    colors1 = ['blue','brown','yellow','cyan', 'orange', 'pink', 'purple', 'green']\n",
    "    ax.scatter(dataset[:, 0], dataset[:, 1], c=cluster_map, cmap=matplotlib.colors.ListedColormap(colors1))\n",
    "    \n",
    "    # PLot the initial starting positions of centroids\n",
    "    colors2 = ['red']\n",
    "    ax.scatter(s_centroids[:, 0], s_centroids[:, 1], c=colors2, label='starting centroids', cmap=matplotlib.colors.ListedColormap(colors2))\n",
    "    \n",
    "    # Plot the final positions of centroids\n",
    "    colors3 = ['black']\n",
    "    ax.scatter(f_centroids[:, 0], f_centroids[:, 1], c=colors3, label='final centroids', cmap=matplotlib.colors.ListedColormap(colors3))\n",
    "    \n",
    "    ax.legend()\n",
    "    plt.show()"
   ]
  },
  {
   "cell_type": "code",
   "execution_count": 17,
   "metadata": {},
   "outputs": [],
   "source": [
    "# Run kmeans and plot together\n",
    "def shortcut(b, dp, c, f, m):\n",
    "    # b: blobs, dp: datapoints, c: clusters, f: features, m: M limit\n",
    "    \n",
    "    # Initialize dataset and centroids -> eg 5 blobs, 50 datapoints each, 5 clusters, 2 features\n",
    "    dset, starter_centroids = prep_data(b, dp, c, f)\n",
    "    # Run kmeans to get updated centroids and cluster map\n",
    "    updated_centroids, latest_cluster_map = kmeans_leggo(dset, starter_centroids, m)\n",
    "    # Plot it out\n",
    "    clusters_plot(dset, latest_cluster_map, starter_centroids, updated_centroids)\n",
    "    \n",
    "    return ('Success')\n",
    "    "
   ]
  },
  {
   "cell_type": "markdown",
   "metadata": {},
   "source": [
    "## Testing start (ps scroll down for the plot)"
   ]
  },
  {
   "cell_type": "markdown",
   "metadata": {},
   "source": [
    "### Cluster P = 2"
   ]
  },
  {
   "cell_type": "code",
   "execution_count": 18,
   "metadata": {},
   "outputs": [
    {
     "name": "stdout",
     "output_type": "stream",
     "text": [
      "checker tensor(3.0697)\n",
      "iteration number: 1\n",
      "new centroids: \n",
      "tensor([[-0.4302, -0.4299],\n",
      "        [ 2.0444,  2.0868]])\n",
      "checker tensor(1.1084)\n",
      "iteration number: 2\n",
      "new centroids: \n",
      "tensor([[0.0908, 0.1731],\n",
      "        [2.5965, 2.6242]])\n",
      "checker tensor(0.7256)\n",
      "iteration number: 3\n",
      "new centroids: \n",
      "tensor([[0.4536, 0.4765],\n",
      "        [2.9726, 3.0259]])\n",
      "checker tensor(0.1039)\n",
      "iteration number: 4\n",
      "new centroids: \n",
      "tensor([[0.5075, 0.5368],\n",
      "        [3.0205, 3.0702]])\n",
      "checker tensor(0.0414)\n",
      "iteration number: 5\n",
      "new centroids: \n",
      "tensor([[0.5306, 0.5597],\n",
      "        [3.0384, 3.0885]])\n",
      "checker tensor(0.0210)\n",
      "iteration number: 6\n",
      "new centroids: \n",
      "tensor([[0.5407, 0.5731],\n",
      "        [3.0484, 3.0962]])\n",
      "checker tensor(0.)\n",
      "iteration number: 7\n",
      "new centroids: \n",
      "tensor([[0.5407, 0.5731],\n",
      "        [3.0484, 3.0962]])\n"
     ]
    },
    {
     "data": {
      "image/png": "[encoded data removed]",
      "text/plain": [
       "<Figure size 432x288 with 1 Axes>"
      ]
     },
     "metadata": {
      "needs_background": "light"
     },
     "output_type": "display_data"
    },
    {
     "data": {
      "text/plain": [
       "'Success'"
      ]
     },
     "execution_count": 18,
     "metadata": {},
     "output_type": "execute_result"
    }
   ],
   "source": [
    "shortcut(5,50,2,2,20)"
   ]
  },
  {
   "cell_type": "markdown",
   "metadata": {},
   "source": [
    "### Cluster P = 5"
   ]
  },
  {
   "cell_type": "code",
   "execution_count": 19,
   "metadata": {},
   "outputs": [
    {
     "name": "stdout",
     "output_type": "stream",
     "text": [
      "checker tensor(2.9188)\n",
      "iteration number: 1\n",
      "new centroids: \n",
      "tensor([[-0.4861, -0.3958],\n",
      "        [-0.1148,  0.0523],\n",
      "        [ 2.2617,  2.3091],\n",
      "        [-0.0948, -0.6346],\n",
      "        [ 0.1928, -0.3020]])\n",
      "checker tensor(1.2385)\n",
      "iteration number: 2\n",
      "new centroids: \n",
      "tensor([[-0.4861, -0.3958],\n",
      "        [ 0.3935,  0.5732],\n",
      "        [ 2.8703,  2.9030],\n",
      "        [-0.0948, -0.6346],\n",
      "        [ 0.5540,  0.0862]])\n",
      "checker tensor(0.6887)\n",
      "iteration number: 3\n",
      "new centroids: \n",
      "tensor([[-0.2791, -0.1354],\n",
      "        [ 0.7307,  0.8313],\n",
      "        [ 2.9927,  3.0445],\n",
      "        [ 0.0797, -0.4349],\n",
      "        [ 0.2826,  0.0195]])\n",
      "checker tensor(0.5574)\n",
      "iteration number: 4\n",
      "new centroids: \n",
      "tensor([[-0.2516, -0.0226],\n",
      "        [ 1.0991,  1.1420],\n",
      "        [ 3.1333,  3.1751],\n",
      "        [ 0.1106, -0.4035],\n",
      "        [ 0.1529,  0.1167]])\n",
      "checker tensor(0.5089)\n",
      "iteration number: 5\n",
      "new centroids: \n",
      "tensor([[-0.2611, -0.0263],\n",
      "        [ 1.3683,  1.4095],\n",
      "        [ 3.3418,  3.3700],\n",
      "        [ 0.1517, -0.3495],\n",
      "        [ 0.1934,  0.2815]])\n",
      "checker tensor(0.4069)\n",
      "iteration number: 6\n",
      "new centroids: \n",
      "tensor([[-0.2425, -0.0603],\n",
      "        [ 1.5497,  1.5880],\n",
      "        [ 3.4792,  3.4978],\n",
      "        [ 0.1971, -0.2641],\n",
      "        [ 0.2851,  0.4967]])\n",
      "checker tensor(0.4722)\n",
      "iteration number: 7\n",
      "new centroids: \n",
      "tensor([[-0.2044, -0.0180],\n",
      "        [ 1.7218,  1.7813],\n",
      "        [ 3.5032,  3.5161],\n",
      "        [ 0.1944, -0.1947],\n",
      "        [ 0.5899,  0.7293]])\n",
      "checker tensor(0.4291)\n",
      "iteration number: 8\n",
      "new centroids: \n",
      "tensor([[-0.1930,  0.0545],\n",
      "        [ 1.9104,  1.9984],\n",
      "        [ 3.5110,  3.5270],\n",
      "        [ 0.1964, -0.1263],\n",
      "        [ 0.8462,  0.8890]])\n",
      "checker tensor(0.1474)\n",
      "iteration number: 9\n",
      "new centroids: \n",
      "tensor([[-0.1959,  0.0767],\n",
      "        [ 1.9768,  2.0921],\n",
      "        [ 3.5270,  3.5457],\n",
      "        [ 0.1977, -0.0858],\n",
      "        [ 0.9183,  0.9132]])\n",
      "checker tensor(0.0902)\n",
      "iteration number: 10\n",
      "new centroids: \n",
      "tensor([[-0.1841,  0.0972],\n",
      "        [ 2.0108,  2.1094],\n",
      "        [ 3.5396,  3.5661],\n",
      "        [ 0.2142, -0.0280],\n",
      "        [ 0.9570,  0.9342]])\n",
      "checker tensor(0.0581)\n",
      "iteration number: 11\n",
      "new centroids: \n",
      "tensor([[-0.1841,  0.0972],\n",
      "        [ 2.0494,  2.1426],\n",
      "        [ 3.5560,  3.5825],\n",
      "        [ 0.2142, -0.0280],\n",
      "        [ 0.9650,  0.9479]])\n",
      "checker tensor(0.)\n",
      "iteration number: 12\n",
      "new centroids: \n",
      "tensor([[-0.1841,  0.0972],\n",
      "        [ 2.0494,  2.1426],\n",
      "        [ 3.5560,  3.5825],\n",
      "        [ 0.2142, -0.0280],\n",
      "        [ 0.9650,  0.9479]])\n"
     ]
    },
    {
     "data": {
      "image/png": "[encoded data removed]",
      "text/plain": [
       "<Figure size 432x288 with 1 Axes>"
      ]
     },
     "metadata": {
      "needs_background": "light"
     },
     "output_type": "display_data"
    },
    {
     "data": {
      "text/plain": [
       "'Success'"
      ]
     },
     "execution_count": 19,
     "metadata": {},
     "output_type": "execute_result"
    }
   ],
   "source": [
    "shortcut(5,50,5,2,20)"
   ]
  },
  {
   "cell_type": "markdown",
   "metadata": {},
   "source": [
    "### Cluster P = 8"
   ]
  },
  {
   "cell_type": "code",
   "execution_count": 20,
   "metadata": {},
   "outputs": [
    {
     "name": "stdout",
     "output_type": "stream",
     "text": [
      "checker tensor(3.3900)\n",
      "iteration number: 1\n",
      "new centroids: \n",
      "tensor([[-0.4861, -0.3958],\n",
      "        [-0.1167, -0.0227],\n",
      "        [ 2.5441,  2.5317],\n",
      "        [-0.0948, -0.6346],\n",
      "        [ 0.1620, -0.3458],\n",
      "        [ 0.0522,  0.1048],\n",
      "        [ 0.5273,  1.1185],\n",
      "        [ 0.3116, -0.1223]])\n",
      "checker tensor(0.8414)\n",
      "iteration number: 2\n",
      "new centroids: \n",
      "tensor([[-0.4861, -0.3958],\n",
      "        [-0.1293,  0.0363],\n",
      "        [ 2.9927,  3.0445],\n",
      "        [-0.0948, -0.6346],\n",
      "        [ 0.1620, -0.3458],\n",
      "        [ 0.0623,  0.3044],\n",
      "        [ 0.9433,  0.9535],\n",
      "        [ 0.3116, -0.1223]])\n",
      "checker tensor(0.4865)\n",
      "iteration number: 3\n",
      "new centroids: \n",
      "tensor([[-0.4861, -0.3958],\n",
      "        [-0.1296,  0.0488],\n",
      "        [ 3.1899,  3.2337],\n",
      "        [-0.0948, -0.6346],\n",
      "        [ 0.1620, -0.3458],\n",
      "        [ 0.0712,  0.3716],\n",
      "        [ 1.2183,  1.2371],\n",
      "        [ 0.2859, -0.1000]])\n",
      "checker tensor(0.5517)\n",
      "iteration number: 4\n",
      "new centroids: \n",
      "tensor([[-0.4861, -0.3958],\n",
      "        [-0.1119,  0.0854],\n",
      "        [ 3.4095,  3.4342],\n",
      "        [-0.0948, -0.6346],\n",
      "        [ 0.1620, -0.3458],\n",
      "        [ 0.2589,  0.5787],\n",
      "        [ 1.4728,  1.5007],\n",
      "        [ 0.2506, -0.0742]])\n",
      "checker tensor(0.5175)\n",
      "iteration number: 5\n",
      "new centroids: \n",
      "tensor([[-0.4861, -0.3958],\n",
      "        [-0.0862,  0.1176],\n",
      "        [ 3.5032,  3.5161],\n",
      "        [-0.0948, -0.6346],\n",
      "        [ 0.1863, -0.3273],\n",
      "        [ 0.5938,  0.7670],\n",
      "        [ 1.6827,  1.7359],\n",
      "        [ 0.2474, -0.0230]])\n",
      "checker tensor(0.4647)\n",
      "iteration number: 6\n",
      "new centroids: \n",
      "tensor([[-0.4861, -0.3958],\n",
      "        [-0.1165,  0.1719],\n",
      "        [ 3.5110,  3.5270],\n",
      "        [-0.0948, -0.6346],\n",
      "        [ 0.1863, -0.3273],\n",
      "        [ 0.8568,  0.8995],\n",
      "        [ 1.9104,  1.9984],\n",
      "        [ 0.2362,  0.0426]])\n",
      "checker tensor(0.1906)\n",
      "iteration number: 7\n",
      "new centroids: \n",
      "tensor([[-0.4861, -0.3958],\n",
      "        [-0.1086,  0.2204],\n",
      "        [ 3.5270,  3.5457],\n",
      "        [-0.0948, -0.6346],\n",
      "        [ 0.1928, -0.3020],\n",
      "        [ 0.9570,  0.9342],\n",
      "        [ 1.9768,  2.0921],\n",
      "        [ 0.2455,  0.1327]])\n",
      "checker tensor(0.1476)\n",
      "iteration number: 8\n",
      "new centroids: \n",
      "tensor([[-0.4861, -0.3958],\n",
      "        [-0.1104,  0.2709],\n",
      "        [ 3.5396,  3.5661],\n",
      "        [-0.0948, -0.6346],\n",
      "        [ 0.1366, -0.2161],\n",
      "        [ 0.9650,  0.9479],\n",
      "        [ 2.0228,  2.1186],\n",
      "        [ 0.2424,  0.2039]])\n",
      "checker tensor(0.0888)\n",
      "iteration number: 9\n",
      "new centroids: \n",
      "tensor([[-0.4861, -0.3958],\n",
      "        [-0.1238,  0.2499],\n",
      "        [ 3.5560,  3.5825],\n",
      "        [-0.0948, -0.6346],\n",
      "        [ 0.1519, -0.2052],\n",
      "        [ 0.9650,  0.9479],\n",
      "        [ 2.0494,  2.1426],\n",
      "        [ 0.2262,  0.2734]])\n",
      "checker tensor(0.0772)\n",
      "iteration number: 10\n",
      "new centroids: \n",
      "tensor([[-0.4861, -0.3958],\n",
      "        [-0.1238,  0.2499],\n",
      "        [ 3.5560,  3.5825],\n",
      "        [-0.0948, -0.6346],\n",
      "        [ 0.1505, -0.1881],\n",
      "        [ 0.9774,  0.9507],\n",
      "        [ 2.0494,  2.1426],\n",
      "        [ 0.2478,  0.3443]])\n",
      "checker tensor(0.1747)\n",
      "iteration number: 11\n",
      "new centroids: \n",
      "tensor([[-0.4861, -0.3958],\n",
      "        [-0.1089,  0.2117],\n",
      "        [ 3.5560,  3.5825],\n",
      "        [-0.0948, -0.6346],\n",
      "        [ 0.1615, -0.1720],\n",
      "        [ 0.9924,  0.9664],\n",
      "        [ 2.0494,  2.1426],\n",
      "        [ 0.3166,  0.4968]])\n",
      "checker tensor(0.1595)\n",
      "iteration number: 12\n",
      "new centroids: \n",
      "tensor([[-0.4861, -0.3958],\n",
      "        [-0.0962,  0.2129],\n",
      "        [ 3.5560,  3.5825],\n",
      "        [-0.0948, -0.6346],\n",
      "        [ 0.1634, -0.1530],\n",
      "        [ 1.0201,  0.9642],\n",
      "        [ 2.0494,  2.1426],\n",
      "        [ 0.3534,  0.6477]])\n",
      "checker tensor(0.1219)\n",
      "iteration number: 13\n",
      "new centroids: \n",
      "tensor([[-0.4861, -0.3958],\n",
      "        [-0.0810,  0.2126],\n",
      "        [ 3.5560,  3.5825],\n",
      "        [-0.0948, -0.6346],\n",
      "        [ 0.1634, -0.1530],\n",
      "        [ 1.0561,  0.9849],\n",
      "        [ 2.0494,  2.1426],\n",
      "        [ 0.4481,  0.7104]])\n",
      "checker tensor(0.0341)\n",
      "iteration number: 14\n",
      "new centroids: \n",
      "tensor([[-0.4861, -0.3958],\n",
      "        [-0.0696,  0.2093],\n",
      "        [ 3.5560,  3.5825],\n",
      "        [-0.0948, -0.6346],\n",
      "        [ 0.1615, -0.1720],\n",
      "        [ 1.0629,  0.9934],\n",
      "        [ 2.0494,  2.1426],\n",
      "        [ 0.4710,  0.7065]])\n",
      "checker tensor(0.0241)\n",
      "iteration number: 15\n",
      "new centroids: \n",
      "tensor([[-0.4861, -0.3958],\n",
      "        [-0.0696,  0.2093],\n",
      "        [ 3.5560,  3.5825],\n",
      "        [-0.0948, -0.6346],\n",
      "        [ 0.1615, -0.1720],\n",
      "        [ 1.0693,  1.0012],\n",
      "        [ 2.0494,  2.1426],\n",
      "        [ 0.4928,  0.7060]])\n",
      "checker tensor(0.)\n",
      "iteration number: 16\n",
      "new centroids: \n",
      "tensor([[-0.4861, -0.3958],\n",
      "        [-0.0696,  0.2093],\n",
      "        [ 3.5560,  3.5825],\n",
      "        [-0.0948, -0.6346],\n",
      "        [ 0.1615, -0.1720],\n",
      "        [ 1.0693,  1.0012],\n",
      "        [ 2.0494,  2.1426],\n",
      "        [ 0.4928,  0.7060]])\n"
     ]
    },
    {
     "data": {
      "image/png": "[encoded data removed]",
      "text/plain": [
       "<Figure size 432x288 with 1 Axes>"
      ]
     },
     "metadata": {
      "needs_background": "light"
     },
     "output_type": "display_data"
    },
    {
     "data": {
      "text/plain": [
       "'Success'"
      ]
     },
     "execution_count": 20,
     "metadata": {},
     "output_type": "execute_result"
    }
   ],
   "source": [
    "shortcut(5,50,8,2,20)"
   ]
  }
 ],
 "metadata": {
  "kernelspec": {
   "display_name": "Python 3",
   "language": "python",
   "name": "python3"
  },
  "language_info": {
   "codemirror_mode": {
    "name": "ipython",
    "version": 3
   },
   "file_extension": ".py",
   "mimetype": "text/x-python",
   "name": "python",
   "nbconvert_exporter": "python",
   "pygments_lexer": "ipython3",
   "version": "3.7.4"
  }
 },
 "nbformat": 4,
 "nbformat_minor": 4
}
